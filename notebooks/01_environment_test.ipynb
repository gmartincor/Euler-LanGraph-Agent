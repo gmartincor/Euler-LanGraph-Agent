{
 "cells": [
  {
   "cell_type": "markdown",
   "id": "a908d626",
   "metadata": {},
   "source": [
    "# Environment Test\n",
    "Verify all dependencies and API connections are working"
   ]
  },
  {
   "cell_type": "code",
   "execution_count": 2,
   "id": "56507e3d",
   "metadata": {},
   "outputs": [
    {
     "name": "stdout",
     "output_type": "stream",
     "text": [
      "Python version: 3.11.13 (main, Jul 23 2025, 18:09:53) [GCC 12.2.0]\n",
      "Google API Key configured: True\n"
     ]
    }
   ],
   "source": [
    "import os\n",
    "import sys\n",
    "from dotenv import load_dotenv\n",
    "\n",
    "load_dotenv()\n",
    "\n",
    "print(f\"Python version: {sys.version}\")\n",
    "print(f\"Google API Key configured: {'GOOGLE_API_KEY' in os.environ}\")"
   ]
  },
  {
   "cell_type": "code",
   "execution_count": 3,
   "id": "32163f8d",
   "metadata": {},
   "outputs": [
    {
     "name": "stdout",
     "output_type": "stream",
     "text": [
      "✅ All core dependencies imported successfully\n"
     ]
    }
   ],
   "source": [
    "try:\n",
    "    import langchain\n",
    "    import langgraph\n",
    "    import streamlit\n",
    "    import matplotlib\n",
    "    import plotly\n",
    "    print(\"✅ All core dependencies imported successfully\")\n",
    "except ImportError as e:\n",
    "    print(f\"❌ Import error: {e}\")"
   ]
  },
  {
   "cell_type": "code",
   "execution_count": 5,
   "id": "08a925e5",
   "metadata": {},
   "outputs": [
    {
     "name": "stdout",
     "output_type": "stream",
     "text": [
      "🔧 Configuración detectada:\n",
      "   Modelo: gemini-pro\n",
      "   Temperatura: 0.1\n",
      "   Max output tokens: 2048\n",
      "\n"
     ]
    },
    {
     "name": "stderr",
     "output_type": "stream",
     "text": [
      "Retrying langchain_google_genai.chat_models._chat_with_retry.<locals>._chat_with_retry in 2.0 seconds as it raised NotFound: 404 models/gemini-pro is not found for API version v1beta, or is not supported for generateContent. Call ListModels to see the list of available models and their supported methods..\n"
     ]
    },
    {
     "name": "stdout",
     "output_type": "stream",
     "text": [
      "❌ Google Gemini API error: 404 models/gemini-pro is not found for API version v1beta, or is not supported for generateContent. Call ListModels to see the list of available models and their supported methods.\n",
      "💡 Verifica que GOOGLE_API_KEY esté configurada correctamente\n"
     ]
    }
   ],
   "source": [
    "# ✅ CONFIGURACIÓN ACTUALIZADA: Usando gemini-pro para optimizar rate limits\n",
    "from langchain_google_genai import ChatGoogleGenerativeAI\n",
    "from app.core.config import get_settings\n",
    "\n",
    "try:\n",
    "    # Usar la configuración centralizada como debe ser\n",
    "    settings = get_settings()\n",
    "    gemini_config = settings.gemini_config\n",
    "    \n",
    "    print(f\"🔧 Configuración detectada:\")\n",
    "    print(f\"   Modelo: {gemini_config['model_name']}\")\n",
    "    print(f\"   Temperatura: {gemini_config['temperature']}\")\n",
    "    print(f\"   Max output tokens: {gemini_config['max_output_tokens']}\")\n",
    "    print()\n",
    "    \n",
    "    # Crear LLM con la configuración correcta para Google Gemini\n",
    "    llm = ChatGoogleGenerativeAI(\n",
    "        model=gemini_config[\"model_name\"],  # gemini-pro (actualizado para mejor rate limiting)\n",
    "        temperature=gemini_config[\"temperature\"],\n",
    "        max_output_tokens=gemini_config[\"max_output_tokens\"],  # Parámetro correcto para Google Gemini\n",
    "        google_api_key=gemini_config[\"api_key\"]\n",
    "    )\n",
    "    \n",
    "    response = llm.invoke(\"Hello, test connection\")\n",
    "    print(\"✅ Google Gemini API connection successful\")\n",
    "    print(f\"Response: {response.content[:100]}...\")\n",
    "    \n",
    "except Exception as e:\n",
    "    print(f\"❌ Google Gemini API error: {e}\")\n",
    "    print(\"💡 Verifica que GOOGLE_API_KEY esté configurada correctamente\")"
   ]
  },
  {
   "cell_type": "code",
   "execution_count": null,
   "id": "c4534b4b",
   "metadata": {},
   "outputs": [],
   "source": [
    "# Environment Summary\n",
    "print(\"\\n\" + \"=\"*50)\n",
    "print(\"🏁 ENVIRONMENT TEST SUMMARY\")\n",
    "print(\"=\"*50)\n",
    "print(f\"🐍 Python Version: {sys.version.split()[0]}\")\n",
    "print(f\"🐳 Docker Environment: {'✅ YES' if os.getenv('DATABASE_URL') else '❌ NO'}\")\n",
    "print(f\"🔑 Google API Key: {'✅ CONFIGURED' if os.getenv('GOOGLE_API_KEY') else '❌ MISSING'}\")\n",
    "print(f\"🗄️  Database URL: {'✅ CONFIGURED' if os.getenv('DATABASE_URL') else '❌ MISSING'}\")\n",
    "print(\"\\n💡 Si todo está ✅, tu entorno está listo para el ReAct Agent!\")"
   ]
  },
  {
   "cell_type": "markdown",
   "id": "634fa328",
   "metadata": {},
   "source": [
    "## 🎯 Actualización del Modelo Gemini\n",
    "\n",
    "**✅ MIGRACIÓN COMPLETADA**: Cambiado de `gemini-1.5-flash` a `gemini-2.5-flash` por optimización de rate limits\n",
    "\n",
    "### 📊 Motivos del Cambio:\n",
    "- **Rate Limits Mejorados**: `gemini-2.5-flash` ofrece mejores límites de solicitudes por minuto\n",
    "- **Rendimiento**: Mayor velocidad de respuesta y optimización mejorada\n",
    "- **Costo-Efectividad**: Mejor relación costo/rendimiento para aplicaciones de producción\n",
    "- **Características**: Mantiene todas las capacidades de 1.5 con mejoras adicionales\n",
    "\n",
    "### 🔧 Cambios Implementados:\n",
    "- Configuración por defecto en `app/core/config.py`\n",
    "- Variables de entorno en `.env.example`\n",
    "- Documentación actualizada\n",
    "- Tests actualizados para el nuevo modelo\n",
    "\n",
    "### 🚀 Próximos Pasos:\n",
    "1. Verificar que `GOOGLE_API_KEY` tiene acceso a Gemini 2.5 Flash\n",
    "2. Actualizar archivo `.env` local con `GEMINI_MODEL_NAME=gemini-2.5-flash`\n",
    "3. Reiniciar la aplicación para aplicar cambios"
   ]
  },
  {
   "cell_type": "markdown",
   "id": "15cb9c23",
   "metadata": {},
   "source": [
    "### 📋 Detalles Técnicos de la Migración\n",
    "\n",
    "**🔧 ACTUALIZACIÓN APLICADA**: Migración de `gemini-1.5-flash` a `gemini-2.5-flash`\n",
    "\n",
    "**Cambios técnicos implementados:**\n",
    "- **Modelo**: `gemini-1.5-flash` → `gemini-2.5-flash` (mejor rendimiento y rate limits)\n",
    "- **Max Tokens**: 8192 (mantenido - compatible con ambos modelos)\n",
    "- **Temperature**: 0.1 (optimizada para tareas matemáticas)\n",
    "- **API**: Misma interfaz langchain-google-genai\n",
    "\n",
    "**Beneficios del nuevo modelo:**\n",
    "- ⚡ **Velocidad**: Respuestas más rápidas\n",
    "- 🎯 **Rate Limits**: Límites más generosos para aplicaciones intensivas\n",
    "- 🧠 **Capacidades**: Mejoras en razonamiento matemático y lógico\n",
    "- 💰 **Costo**: Mejor relación precio/rendimiento\n",
    "\n",
    "**Compatibilidad:**\n",
    "- ✅ Totalmente compatible con el código existente\n",
    "- ✅ Mismos parámetros de configuración\n",
    "- ✅ Sin cambios en la interfaz de LangChain"
   ]
  },
  {
   "cell_type": "code",
   "execution_count": null,
   "id": "0233e2d7",
   "metadata": {},
   "outputs": [],
   "source": [
    "try:\n",
    "    from langchain_google_genai import ChatGoogleGenerativeAI\n",
    "    from langgraph.graph import StateGraph\n",
    "    import psycopg2\n",
    "    import numpy as np\n",
    "    import pandas as pd\n",
    "    print(\"✅ All project-specific dependencies imported successfully\")\n",
    "    print(\"  - LangChain Google GenAI: ✓\")\n",
    "    print(\"  - LangGraph: ✓\") \n",
    "    print(\"  - PostgreSQL: ✓\")\n",
    "    print(\"  - NumPy: ✓\")\n",
    "    print(\"  - Pandas: ✓\")\n",
    "    \n",
    "    # Test Gemini 2.5 Flash configuration\n",
    "    gemini_config = {\n",
    "        \"model_name\": \"gemini-2.5-flash\",  # Updated to Gemini 2.5 Flash for better rate limits\n",
    "        \"temperature\": 0.1,\n",
    "        \"api_key\": os.getenv(\"GOOGLE_API_KEY\"),\n",
    "        \"max_output_tokens\": 8192\n",
    "    }\n",
    "    \n",
    "    print(f\"\\n🔧 Gemini 2.5 Flash configuration:\")\n",
    "    print(f\"   Modelo: {gemini_config['model_name']}\")\n",
    "    print(f\"   Temperatura: {gemini_config['temperature']}\")\n",
    "    print(f\"   Max output tokens: {gemini_config['max_output_tokens']}\")\n",
    "    print()\n",
    "    \n",
    "    # Crear LLM con la configuración correcta para Google Gemini\n",
    "    llm = ChatGoogleGenerativeAI(\n",
    "        model=gemini_config[\"model_name\"],  # gemini-2.5-flash (actualizado para mejor rate limiting)\n",
    "        temperature=gemini_config[\"temperature\"],\n",
    "        max_output_tokens=gemini_config[\"max_output_tokens\"],  # Parámetro correcto para Google Gemini\n",
    "        google_api_key=gemini_config[\"api_key\"]\n",
    "    )\n",
    "    \n",
    "    response = llm.invoke(\"Hello, test connection\")\n",
    "    print(\"✅ Google Gemini API connection successful\")\n",
    "    print(f\"   Response preview: {response.content[:100]}...\")\n",
    "    \n",
    "except ImportError as e:\n",
    "    print(f\"❌ Import error: {e}\")\n",
    "    print(\"   Install missing dependencies with: poetry install\")\n",
    "except Exception as e:\n",
    "    print(f\"❌ Google Gemini API error: {e}\")\n",
    "    print(\"💡 Verifica que GOOGLE_API_KEY esté configurada correctamente\")"
   ]
  },
  {
   "cell_type": "code",
   "execution_count": null,
   "id": "4b3e13c8",
   "metadata": {},
   "outputs": [],
   "source": [
    "# ✅ CONFIGURACIÓN ACTUALIZADA: Usando gemini-2.5-flash para mejores rate limits\n",
    "import os\n",
    "from langchain_google_genai import ChatGoogleGenerativeAI\n",
    "\n",
    "try:\n",
    "    # Get Google API key\n",
    "    google_api_key = os.getenv(\"GOOGLE_API_KEY\")\n",
    "    if not google_api_key:\n",
    "        raise ValueError(\"GOOGLE_API_KEY not found in environment\")\n",
    "    \n",
    "    # Test Google Gemini 2.5 Flash connection\n",
    "    llm = ChatGoogleGenerativeAI(\n",
    "        model=\"gemini-2.5-flash\",  # Updated to 2.5 Flash model for better rate limits\n",
    "        temperature=0.1,\n",
    "        max_output_tokens=8192,  # 2.5 Flash's maximum tokens\n",
    "        api_key=google_api_key\n",
    "    )\n",
    "    \n",
    "    print(\"🤖 Testing Gemini 2.5 Flash connection...\")\n",
    "    response = llm.invoke(\"Hello! Test connection with gemini-2.5-flash model.\")\n",
    "    print(\"✅ Connection successful!\")\n",
    "    print(f\"Response: {response.content[:100]}...\")\n",
    "    \n",
    "except Exception as e:\n",
    "    print(f\"❌ Google Gemini API error: {e}\")\n",
    "    print(\"   Check your GOOGLE_API_KEY in .env file\")\n",
    "    print(\"   Ensure your API key has access to Gemini 2.5 Flash\")"
   ]
  },
  {
   "cell_type": "code",
   "execution_count": null,
   "id": "4491bb39",
   "metadata": {},
   "outputs": [
    {
     "ename": "",
     "evalue": "",
     "output_type": "error",
     "traceback": [
      "\u001b[1;31mFailed to restart the Kernel. \n",
      "\u001b[1;31mrequest to http://localhost:8888/api/kernels/df5fbd75-172b-4e7e-9b95-40039aec0c4a/restart?1754151882589 failed, reason: connect ECONNREFUSED ::1:8888. \n",
      "\u001b[1;31mView Jupyter <a href='command:jupyter.viewOutput'>log</a> for further details."
     ]
    }
   ],
   "source": [
    "# 🔄 VERIFICACIÓN POST-MIGRACIÓN: Configuración con gemini-2.5-flash\n",
    "\n",
    "print(\"🔄 VERIFICACIÓN DE MIGRACIÓN A GEMINI-2.5-FLASH\")\n",
    "print(\"=\"*50)\n",
    "\n",
    "try:\n",
    "    from app.core.config import get_settings\n",
    "    from langchain_google_genai import ChatGoogleGenerativeAI\n",
    "    \n",
    "    # Load current settings\n",
    "    settings = get_settings()\n",
    "    gemini_config = settings.gemini_config\n",
    "    \n",
    "    print(\"🔍 Configuración actual:\")\n",
    "    print(f\"   📱 Modelo: {gemini_config['model_name']} {'✅' if gemini_config['model_name'] == 'gemini-2.5-flash' else '❌'}\")\n",
    "    print(f\"   🌡️  Temperature: {gemini_config['temperature']}\")\n",
    "    print(f\"   📊 Max Tokens: {gemini_config['max_output_tokens']}\")\n",
    "    print(f\"   🔑 API Key: {'✅ Configurada' if gemini_config['api_key'] else '❌ Faltante'}\")\n",
    "    \n",
    "    # Verify migration success\n",
    "    if gemini_config['model_name'] == 'gemini-2.5-flash':\n",
    "        print(\"✅ MIGRACIÓN EXITOSA: Modelo actualizado a gemini-2.5-flash\")\n",
    "        print(\"🚀 Beneficios: Mejores rate limits y rendimiento optimizado\")\n",
    "        \n",
    "        print(\"🔍 Probando conexión con gemini-2.5-flash...\")\n",
    "        llm = ChatGoogleGenerativeAI(\n",
    "            model=gemini_config[\"model_name\"],\n",
    "            temperature=gemini_config[\"temperature\"],\n",
    "            max_output_tokens=gemini_config[\"max_output_tokens\"],\n",
    "            api_key=gemini_config[\"api_key\"]\n",
    "        )\n",
    "        \n",
    "        response = llm.invoke(\"Hello! Test connection with gemini-2.5-flash model.\")\n",
    "        print(\"✅ Conexión exitosa con el nuevo modelo\")\n",
    "        print(f\"   Respuesta: {response.content[:100]}...\")\n",
    "    else:\n",
    "        print(f\"❌ MIGRACIÓN FALLIDA: Se esperaba gemini-2.5-flash, se obtuvo {gemini_config['model_name']}\")\n",
    "        \n",
    "except Exception as e:\n",
    "    print(f\"❌ Error en verificación: {e}\")\n",
    "    \n",
    "print(\"=\"*50)"
   ]
  }
 ],
 "metadata": {
  "kernelspec": {
   "display_name": "Python 3 (ipykernel)",
   "language": "python",
   "name": "python3"
  },
  "language_info": {
   "codemirror_mode": {
    "name": "ipython",
    "version": 3
   },
   "file_extension": ".py",
   "mimetype": "text/x-python",
   "name": "python",
   "nbconvert_exporter": "python",
   "pygments_lexer": "ipython3",
   "version": "3.11.13"
  }
 },
 "nbformat": 4,
 "nbformat_minor": 5
}
