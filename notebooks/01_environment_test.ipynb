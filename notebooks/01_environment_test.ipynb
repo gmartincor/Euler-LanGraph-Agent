{
 "cells": [
  {
   "cell_type": "markdown",
   "id": "a908d626",
   "metadata": {},
   "source": [
    "# Environment Test\n",
    "Verify all dependencies and API connections are working"
   ]
  },
  {
   "cell_type": "code",
   "execution_count": null,
   "id": "56507e3d",
   "metadata": {},
   "outputs": [],
   "source": [
    "import os\n",
    "import sys\n",
    "from dotenv import load_dotenv\n",
    "\n",
    "load_dotenv()\n",
    "\n",
    "print(f\"Python version: {sys.version}\")\n",
    "print(f\"Google API Key configured: {'GOOGLE_API_KEY' in os.environ}\")"
   ]
  },
  {
   "cell_type": "code",
   "execution_count": null,
   "id": "32163f8d",
   "metadata": {},
   "outputs": [],
   "source": [
    "try:\n",
    "    import langchain\n",
    "    import langgraph\n",
    "    import streamlit\n",
    "    import matplotlib\n",
    "    import plotly\n",
    "    print(\"✅ All core dependencies imported successfully\")\n",
    "except ImportError as e:\n",
    "    print(f\"❌ Import error: {e}\")"
   ]
  },
  {
   "cell_type": "code",
   "execution_count": null,
   "id": "08a925e5",
   "metadata": {},
   "outputs": [],
   "source": [
    "from langchain_google_genai import ChatGoogleGenerativeAI\n",
    "\n",
    "try:\n",
    "    llm = ChatGoogleGenerativeAI(model=\"gemini-pro\")\n",
    "    response = llm.invoke(\"Hello, test connection\")\n",
    "    print(\"✅ Google Gemini API connection successful\")\n",
    "    print(f\"Response: {response.content[:100]}...\")\n",
    "except Exception as e:\n",
    "    print(f\"❌ Google Gemini API error: {e}\")"
   ]
  },
  {
   "cell_type": "code",
   "execution_count": null,
   "id": "c4534b4b",
   "metadata": {},
   "outputs": [],
   "source": [
    "# Environment Summary\n",
    "print(\"\\n\" + \"=\"*50)\n",
    "print(\"🏁 ENVIRONMENT TEST SUMMARY\")\n",
    "print(\"=\"*50)\n",
    "print(f\"🐍 Python Version: {sys.version.split()[0]}\")\n",
    "print(f\"🐳 Docker Environment: {'✅ YES' if os.getenv('DATABASE_URL') else '❌ NO'}\")\n",
    "print(f\"🔑 Google API Key: {'✅ CONFIGURED' if os.getenv('GOOGLE_API_KEY') else '❌ MISSING'}\")\n",
    "print(f\"🗄️  Database URL: {'✅ CONFIGURED' if os.getenv('DATABASE_URL') else '❌ MISSING'}\")\n",
    "print(\"\\n💡 Si todo está ✅, tu entorno está listo para el ReAct Agent!\")"
   ]
  },
  {
   "cell_type": "code",
   "execution_count": null,
   "id": "0233e2d7",
   "metadata": {},
   "outputs": [],
   "source": [
    "# Test specific project dependencies\n",
    "try:\n",
    "    from langchain_google_genai import ChatGoogleGenerativeAI\n",
    "    from langgraph.graph import StateGraph\n",
    "    import psycopg2\n",
    "    import numpy as np\n",
    "    import pandas as pd\n",
    "    print(\"✅ All project-specific dependencies imported successfully\")\n",
    "    print(\"  - LangChain Google GenAI: ✓\")\n",
    "    print(\"  - LangGraph: ✓\") \n",
    "    print(\"  - PostgreSQL driver: ✓\")\n",
    "    print(\"  - NumPy & Pandas: ✓\")\n",
    "except ImportError as e:\n",
    "    print(f\"❌ Project dependency error: {e}\")"
   ]
  }
 ],
 "metadata": {
  "kernelspec": {
   "display_name": "ReAct Agent (Docker)",
   "language": "python",
   "name": "react-agent-kernel"
  }
 },
 "nbformat": 4,
 "nbformat_minor": 5
}