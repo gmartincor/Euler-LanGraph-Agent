{
 "cells": [
  {
   "cell_type": "markdown",
   "id": "a908d626",
   "metadata": {},
   "source": [
    "# Environment Test\n",
    "Verify all dependencies and API connections are working"
   ]
  },
  {
   "cell_type": "code",
   "execution_count": null,
   "id": "56507e3d",
   "metadata": {},
   "outputs": [],
   "source": [
    "import os\n",
    "import sys\n",
    "from dotenv import load_dotenv\n",
    "\n",
    "load_dotenv()\n",
    "\n",
    "print(f\"Python version: {sys.version}\")\n",
    "print(f\"Google API Key configured: {'GOOGLE_API_KEY' in os.environ}\")"
   ]
  },
  {
   "cell_type": "code",
   "execution_count": null,
   "id": "32163f8d",
   "metadata": {},
   "outputs": [],
   "source": [
    "try:\n",
    "    import langchain\n",
    "    import langgraph\n",
    "    import streamlit\n",
    "    import matplotlib\n",
    "    import plotly\n",
    "    print(\"✅ All core dependencies imported successfully\")\n",
    "except ImportError as e:\n",
    "    print(f\"❌ Import error: {e}\")"
   ]
  },
  {
   "cell_type": "code",
   "execution_count": null,
   "id": "08a925e5",
   "metadata": {},
   "outputs": [],
   "source": [
    "from langchain_google_genai import ChatGoogleGenerativeAI\n",
    "\n",
    "try:\n",
    "    llm = ChatGoogleGenerativeAI(model=\"gemini-pro\")\n",
    "    response = llm.invoke(\"Hello, test connection\")\n",
    "    print(\"✅ Google Gemini API connection successful\")\n",
    "    print(f\"Response: {response.content[:100]}...\")\n",
    "except Exception as e:\n",
    "    print(f\"❌ Google Gemini API error: {e}\")"
   ]
  }
 ],
 "metadata": {
  "language_info": {
   "name": "python"
  }
 },
 "nbformat": 4,
 "nbformat_minor": 5
}
