{
 "cells": [
  {
   "cell_type": "markdown",
   "id": "cb3eaf0d",
   "metadata": {},
   "source": [
    "# LangGraph Agent Test\n",
    "Test ReAct agent with LangGraph BigTool"
   ]
  },
  {
   "cell_type": "code",
   "execution_count": null,
   "id": "46d7faec",
   "metadata": {},
   "outputs": [],
   "source": [
    "from langchain_google_genai import ChatGoogleGenerativeAI\n",
    "from langgraph.prebuilt import create_react_agent\n",
    "from langchain_core.tools import tool\n",
    "import os"
   ]
  },
  {
   "cell_type": "code",
   "execution_count": null,
   "id": "43e892db",
   "metadata": {},
   "outputs": [],
   "source": [
    "@tool\n",
    "def calculate_integral_tool(function: str, x_min: float, x_max: float) -> str:\n",
    "    \"\"\"Calculate the definite integral of a mathematical function.\n",
    "    \n",
    "    Args:\n",
    "        function: Mathematical function as string (e.g., 'x**2', 'sin(x)')\n",
    "        x_min: Lower bound of integration\n",
    "        x_max: Upper bound of integration\n",
    "    \n",
    "    Returns:\n",
    "        String with the calculated integral value\n",
    "    \"\"\"\n",
    "    import sympy as sp\n",
    "    \n",
    "    try:\n",
    "        x = sp.Symbol('x')\n",
    "        func = sp.sympify(function)\n",
    "        result = sp.integrate(func, (x, x_min, x_max))\n",
    "        return f\"The integral of {function} from {x_min} to {x_max} is {float(result)}\"\n",
    "    except Exception as e:\n",
    "        return f\"Error calculating integral: {str(e)}\"\n",
    "\n",
    "# Test the tool directly\n",
    "result = calculate_integral_tool.invoke({\"function\": \"x**2\", \"x_min\": 0, \"x_max\": 2})\n",
    "print(result)"
   ]
  },
  {
   "cell_type": "code",
   "execution_count": null,
   "id": "39eaeb83",
   "metadata": {},
   "outputs": [],
   "source": [
    "# Create LLM and agent\n",
    "llm = ChatGoogleGenerativeAI(model=\"gemini-pro\", temperature=0)\n",
    "tools = [calculate_integral_tool]\n",
    "\n",
    "agent = create_react_agent(llm, tools)\n",
    "\n",
    "# Test agent\n",
    "response = agent.invoke({\n",
    "    \"messages\": [{\n",
    "        \"role\": \"user\", \n",
    "        \"content\": \"Calculate the integral of x^2 from 0 to 2 and explain the result\"\n",
    "    }]\n",
    "})\n",
    "\n",
    "print(\"Agent response:\")\n",
    "for message in response[\"messages\"]:\n",
    "    if message.type == \"ai\":\n",
    "        print(f\"AI: {message.content}\")\n",
    "    elif message.type == \"tool\":\n",
    "        print(f\"Tool: {message.content}\")"
   ]
  }
 ],
 "metadata": {
  "language_info": {
   "name": "python"
  }
 },
 "nbformat": 4,
 "nbformat_minor": 5
}
