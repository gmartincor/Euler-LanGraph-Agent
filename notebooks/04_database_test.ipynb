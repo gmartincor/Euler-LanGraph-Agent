{
 "cells": [
  {
   "cell_type": "markdown",
   "id": "e8c83226",
   "metadata": {},
   "source": [
    "# Database Integration Test\n",
    "Test PostgreSQL connection and persistence"
   ]
  },
  {
   "cell_type": "code",
   "execution_count": null,
   "id": "887d23ae",
   "metadata": {},
   "outputs": [],
   "source": [
    "import psycopg2\n",
    "import os\n",
    "from datetime import datetime\n",
    "import json"
   ]
  },
  {
   "cell_type": "code",
   "execution_count": null,
   "id": "21a9ee29",
   "metadata": {},
   "outputs": [],
   "source": [
    "# Verificar entorno de ejecución\n",
    "print(\"🐳 Verificando entorno de ejecución...\")\n",
    "print(f\"DATABASE_URL configurada: {'DATABASE_URL' in os.environ}\")\n",
    "print(f\"Ejecutándose en Docker: {'DATABASE_URL' in os.environ}\")\n",
    "\n",
    "if os.getenv(\"DATABASE_URL\"):\n",
    "    print(\"✅ Ejecutándose desde contenedor Docker\")\n",
    "    print(f\"DATABASE_URL: {os.getenv('DATABASE_URL')}\")\n",
    "else:\n",
    "    print(\"⚠️  Ejecutándose localmente - asegúrate de que PostgreSQL esté funcionando\")"
   ]
  },
  {
   "cell_type": "code",
   "execution_count": null,
   "id": "cf60ef00",
   "metadata": {},
   "outputs": [],
   "source": [
    "# Database connection\n",
    "def get_db_connection():\n",
    "    # Desde el contenedor Docker, usamos 'postgres' como host (nombre del servicio)\n",
    "    # Si se ejecuta localmente, usa 'localhost'\n",
    "    db_host = \"postgres\" if os.getenv(\"DATABASE_URL\") else \"localhost\"\n",
    "    \n",
    "    return psycopg2.connect(\n",
    "        host=db_host,\n",
    "        database=\"react_agent_db\",\n",
    "        user=\"agent_user\",\n",
    "        password=\"agent_pass\",\n",
    "        port=\"5432\"\n",
    "    )\n",
    "\n",
    "# Test connection\n",
    "try:\n",
    "    conn = get_db_connection()\n",
    "    cursor = conn.cursor()\n",
    "    cursor.execute(\"SELECT version();\")\n",
    "    version = cursor.fetchone()\n",
    "    print(f\"✅ Database connected: {version[0]}\")\n",
    "    cursor.close()\n",
    "    conn.close()\n",
    "except Exception as e:\n",
    "    print(f\"❌ Database connection error: {e}\")\n",
    "    print(\"💡 Asegúrate de que el contenedor Docker esté ejecutándose con 'make up'\")"
   ]
  },
  {
   "cell_type": "code",
   "execution_count": null,
   "id": "abf6400a",
   "metadata": {},
   "outputs": [],
   "source": [
    "# Test conversation storage\n",
    "def save_conversation(session_id, user_message, agent_response, tool_calls=None):\n",
    "    conn = get_db_connection()\n",
    "    cursor = conn.cursor()\n",
    "    \n",
    "    cursor.execute(\"\"\"\n",
    "        INSERT INTO conversations (session_id, user_message, agent_response, tool_calls)\n",
    "        VALUES (%s, %s, %s, %s)\n",
    "        RETURNING id\n",
    "    \"\"\", (session_id, user_message, agent_response, json.dumps(tool_calls) if tool_calls else None))\n",
    "    \n",
    "    conversation_id = cursor.fetchone()[0]\n",
    "    conn.commit()\n",
    "    cursor.close()\n",
    "    conn.close()\n",
    "    return conversation_id\n",
    "\n",
    "# Test save\n",
    "conv_id = save_conversation(\n",
    "    \"test-session\",\n",
    "    \"Calculate integral of x^2 from 0 to 2\",\n",
    "    \"The integral is 8/3\",\n",
    "    {\"tool\": \"calculate_integral\", \"params\": {\"function\": \"x**2\", \"x_min\": 0, \"x_max\": 2}}\n",
    ")\n",
    "print(f\"✅ Conversation saved with ID: {conv_id}\")"
   ]
  },
  {
   "cell_type": "code",
   "execution_count": null,
   "id": "c0752869",
   "metadata": {},
   "outputs": [],
   "source": [
    "# Test agent state storage\n",
    "def save_agent_state(session_id, state_data):\n",
    "    conn = get_db_connection()\n",
    "    cursor = conn.cursor()\n",
    "    \n",
    "    cursor.execute(\"\"\"\n",
    "        INSERT INTO agent_state (session_id, state_data) \n",
    "        VALUES (%s, %s)\n",
    "        ON CONFLICT (session_id) \n",
    "        DO UPDATE SET state_data = %s, updated_at = CURRENT_TIMESTAMP\n",
    "    \"\"\", (session_id, json.dumps(state_data), json.dumps(state_data)))\n",
    "    \n",
    "    conn.commit()\n",
    "    cursor.close()\n",
    "    conn.close()\n",
    "\n",
    "# Test state save\n",
    "save_agent_state(\"test-session\", {\"last_calculation\": \"x^2 integral\", \"result\": 8/3})\n",
    "print(\"✅ Agent state saved\")"
   ]
  }
 ],
 "metadata": {
  "kernelspec": {
   "display_name": "Python 3 (ipykernel)",
   "language": "python",
   "name": "python3"
  }
 },
 "nbformat": 4,
 "nbformat_minor": 5
}