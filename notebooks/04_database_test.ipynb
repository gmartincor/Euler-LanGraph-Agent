{
 "cells": [
  {
   "cell_type": "markdown",
   "id": "e8c83226",
   "metadata": {},
   "source": [
    "# Database Integration Test\n",
    "Test PostgreSQL connection and persistence"
   ]
  },
  {
   "cell_type": "code",
   "execution_count": null,
   "id": "887d23ae",
   "metadata": {},
   "outputs": [],
   "source": [
    "import psycopg2\n",
    "import os\n",
    "from datetime import datetime\n",
    "import json"
   ]
  },
  {
   "cell_type": "code",
   "execution_count": null,
   "id": "cf60ef00",
   "metadata": {},
   "outputs": [],
   "source": [
    "# Database connection\n",
    "def get_db_connection():\n",
    "    return psycopg2.connect(\n",
    "        host=\"localhost\",\n",
    "        database=\"react_agent_db\",\n",
    "        user=\"agent_user\",\n",
    "        password=\"agent_pass\",\n",
    "        port=\"5432\"\n",
    "    )\n",
    "\n",
    "# Test connection\n",
    "try:\n",
    "    conn = get_db_connection()\n",
    "    cursor = conn.cursor()\n",
    "    cursor.execute(\"SELECT version();\")\n",
    "    version = cursor.fetchone()\n",
    "    print(f\"✅ Database connected: {version[0]}\")\n",
    "    cursor.close()\n",
    "    conn.close()\n",
    "except Exception as e:\n",
    "    print(f\"❌ Database connection error: {e}\")"
   ]
  },
  {
   "cell_type": "code",
   "execution_count": null,
   "id": "abf6400a",
   "metadata": {},
   "outputs": [],
   "source": [
    "# Test conversation storage\n",
    "def save_conversation(session_id, user_message, agent_response, tool_calls=None):\n",
    "    conn = get_db_connection()\n",
    "    cursor = conn.cursor()\n",
    "    \n",
    "    cursor.execute(\"\"\"\n",
    "        INSERT INTO conversations (session_id, user_message, agent_response, tool_calls)\n",
    "        VALUES (%s, %s, %s, %s)\n",
    "        RETURNING id\n",
    "    \"\"\", (session_id, user_message, agent_response, json.dumps(tool_calls) if tool_calls else None))\n",
    "    \n",
    "    conversation_id = cursor.fetchone()[0]\n",
    "    conn.commit()\n",
    "    cursor.close()\n",
    "    conn.close()\n",
    "    return conversation_id\n",
    "\n",
    "# Test save\n",
    "conv_id = save_conversation(\n",
    "    \"test-session\",\n",
    "    \"Calculate integral of x^2 from 0 to 2\",\n",
    "    \"The integral is 8/3\",\n",
    "    {\"tool\": \"calculate_integral\", \"params\": {\"function\": \"x**2\", \"x_min\": 0, \"x_max\": 2}}\n",
    ")\n",
    "print(f\"✅ Conversation saved with ID: {conv_id}\")"
   ]
  },
  {
   "cell_type": "code",
   "execution_count": null,
   "id": "c0752869",
   "metadata": {},
   "outputs": [],
   "source": [
    "# Test agent state storage\n",
    "def save_agent_state(session_id, state_data):\n",
    "    conn = get_db_connection()\n",
    "    cursor = conn.cursor()\n",
    "    \n",
    "    cursor.execute(\"\"\"\n",
    "        INSERT INTO agent_state (session_id, state_data) \n",
    "        VALUES (%s, %s)\n",
    "        ON CONFLICT (session_id) \n",
    "        DO UPDATE SET state_data = %s, updated_at = CURRENT_TIMESTAMP\n",
    "    \"\"\", (session_id, json.dumps(state_data), json.dumps(state_data)))\n",
    "    \n",
    "    conn.commit()\n",
    "    cursor.close()\n",
    "    conn.close()\n",
    "\n",
    "# Test state save\n",
    "save_agent_state(\"test-session\", {\"last_calculation\": \"x^2 integral\", \"result\": 8/3})\n",
    "print(\"✅ Agent state saved\")"
   ]
  }
 ],
 "metadata": {
  "language_info": {
   "name": "python"
  }
 },
 "nbformat": 4,
 "nbformat_minor": 5
}
