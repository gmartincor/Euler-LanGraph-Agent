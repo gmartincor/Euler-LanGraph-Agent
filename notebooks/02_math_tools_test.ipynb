{
 "cells": [
  {
   "cell_type": "markdown",
   "id": "e94f553f",
   "metadata": {},
   "source": [
    "# Mathematical Tools Test\n",
    "Test integral calculation and visualization components"
   ]
  },
  {
   "cell_type": "code",
   "execution_count": null,
   "id": "bde910b4",
   "metadata": {},
   "outputs": [],
   "source": [
    "import numpy as np\n",
    "import matplotlib.pyplot as plt\n",
    "import plotly.express as px\n",
    "from scipy import integrate\n",
    "import sympy as sp"
   ]
  },
  {
   "cell_type": "code",
   "execution_count": null,
   "id": "e1fd0bb5",
   "metadata": {},
   "outputs": [],
   "source": [
    "def calculate_integral(func_str, x_min, x_max):\n",
    "    \"\"\"Calculate definite integral using sympy\"\"\"\n",
    "    x = sp.Symbol('x')\n",
    "    func = sp.sympify(func_str)\n",
    "    result = sp.integrate(func, (x, x_min, x_max))\n",
    "    return float(result)\n",
    "\n",
    "# Test integral calculation\n",
    "result = calculate_integral('x**2', 0, 2)\n",
    "print(f\"Integral of x^2 from 0 to 2: {result}\")\n",
    "print(f\"Expected: {8/3:.6f}\")"
   ]
  },
  {
   "cell_type": "code",
   "execution_count": null,
   "id": "bc47fbb5",
   "metadata": {},
   "outputs": [],
   "source": [
    "def plot_function_and_area(func_str, x_min, x_max):\n",
    "    \"\"\"Plot function and highlight area under curve\"\"\"\n",
    "    x = np.linspace(x_min - 1, x_max + 1, 1000)\n",
    "    x_fill = np.linspace(x_min, x_max, 100)\n",
    "    \n",
    "    # Convert string to function\n",
    "    func = lambda x: eval(func_str.replace('x', 'x'))\n",
    "    y = func(x)\n",
    "    y_fill = func(x_fill)\n",
    "    \n",
    "    plt.figure(figsize=(10, 6))\n",
    "    plt.plot(x, y, 'b-', linewidth=2, label=f'f(x) = {func_str}')\n",
    "    plt.fill_between(x_fill, y_fill, alpha=0.3, color='blue', label='Area under curve')\n",
    "    plt.axhline(y=0, color='k', linestyle='-', alpha=0.3)\n",
    "    plt.axvline(x=x_min, color='r', linestyle='--', alpha=0.7)\n",
    "    plt.axvline(x=x_max, color='r', linestyle='--', alpha=0.7)\n",
    "    plt.xlabel('x')\n",
    "    plt.ylabel('f(x)')\n",
    "    plt.title(f'Integral of {func_str} from {x_min} to {x_max}')\n",
    "    plt.legend()\n",
    "    plt.grid(True, alpha=0.3)\n",
    "    plt.show()\n",
    "\n",
    "# Test visualization\n",
    "plot_function_and_area('x**2', 0, 2)"
   ]
  }
 ],
 "metadata": {
  "language_info": {
   "name": "python"
  }
 },
 "nbformat": 4,
 "nbformat_minor": 5
}
